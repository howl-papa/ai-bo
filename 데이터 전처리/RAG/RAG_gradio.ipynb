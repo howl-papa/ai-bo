{
 "cells": [
  {
   "cell_type": "code",
   "execution_count": 1,
   "id": "c6ed34e8",
   "metadata": {},
   "outputs": [
    {
     "name": "stdout",
     "output_type": "stream",
     "text": [
      "* Running on local URL:  http://127.0.0.1:7862\n",
      "* Running on public URL: https://d8781f68d90eb2d285.gradio.live\n",
      "\n",
      "This share link expires in 1 week. For free permanent hosting and GPU upgrades, run `gradio deploy` from the terminal in the working directory to deploy to Hugging Face Spaces (https://huggingface.co/spaces)\n"
     ]
    },
    {
     "data": {
      "text/html": [
       "<div><iframe src=\"https://d8781f68d90eb2d285.gradio.live\" width=\"100%\" height=\"500\" allow=\"autoplay; camera; microphone; clipboard-read; clipboard-write;\" frameborder=\"0\" allowfullscreen></iframe></div>"
      ],
      "text/plain": [
       "<IPython.core.display.HTML object>"
      ]
     },
     "metadata": {},
     "output_type": "display_data"
    },
    {
     "data": {
      "text/plain": []
     },
     "execution_count": 1,
     "metadata": {},
     "output_type": "execute_result"
    }
   ],
   "source": [
    "import gradio as gr\n",
    "import faiss\n",
    "import pandas as pd\n",
    "import numpy as np\n",
    "from openai import AzureOpenAI\n",
    "\n",
    "# 1. Azure OpenAI 클라이언트 설정\n",
    "client = AzureOpenAI(\n",
    "    api_key=\"YOUR_AZURE_OPENAI_KEY\",  # 실제 키로 교체\n",
    "    api_version=\"2024-05-01-preview\",\n",
    "    azure_endpoint=\"https://team05-openai.openai.azure.com\"\n",
    ")\n",
    "\n",
    "# 2. FAISS 인덱스 및 메타데이터 로드\n",
    "df_meta = pd.read_csv(\"FAISS/faiss_metadata.csv\", encoding=\"utf-8-sig\")\n",
    "index = faiss.read_index(\"FAISS/faiss_index.idx\")\n",
    "\n",
    "# 3. 질문 처리 함수\n",
    "def answer_question(query):\n",
    "    try:\n",
    "        # 질문 임베딩\n",
    "        resp = client.embeddings.create(\n",
    "            input=[query],\n",
    "            model=\"text-embedding-3-large\"\n",
    "        )\n",
    "        query_vec = np.array(resp.data[0].embedding, dtype='float32').reshape(1, -1)\n",
    "\n",
    "        # FAISS로 유사 chunk 검색\n",
    "        D, I = index.search(query_vec, k=3)\n",
    "        context = \"\\n\\n\".join(df_meta.loc[i, \"chunk\"] for i in I[0])\n",
    "\n",
    "        # GPT로 응답 생성\n",
    "        completion = client.chat.completions.create(\n",
    "            model=\"gpt-4\",\n",
    "            messages=[\n",
    "                {\n",
    "                    \"role\": \"system\",\n",
    "                    \"content\": \"\"\"다음은 보험 약관 전문 AI입니다. 아래 약관을 바탕으로 질문에 다음의 **고정된 형식**으로 답변하세요:\n",
    "\n",
    "[보장 여부]   \n",
    "[필요 서류]  \n",
    "[적용 조건]  \n",
    "\n",
    "항목 이름과 이모지는 반드시 그대로 유지하세요.  \n",
    "다른 양식(번호 매기기, 자유서술 등)은 절대 사용하지 마세요.  \n",
    "항목이 없는 경우 '약관에 명시되지 않음' 또는 '해당 없음'으로 반드시 채워주세요.  \n",
    "답변 마지막에 반드시 참고한 약관 내용을 \"📎 약관 근거:\"로 요약해서 보여주세요.\"\"\"\n",
    "                },\n",
    "                {\n",
    "                    \"role\": \"user\",\n",
    "                    \"content\": f\"문서:\\n{context}\\n\\n질문: {query}\"\n",
    "                }\n",
    "            ]\n",
    "        )\n",
    "        return completion.choices[0].message.content\n",
    "    except Exception as e:\n",
    "        return f\"❌ 오류 발생: {str(e)}\"\n",
    "\n",
    "# 4. Gradio UI 구성\n",
    "with gr.Blocks() as demo:\n",
    "    gr.Markdown(\"## 🛡️ 보험 약관 상담 챗봇\")\n",
    "    with gr.Row():\n",
    "        query_input = gr.Textbox(label=\"💬 질문을 입력하세요\", placeholder=\"예: 아이가 친구와 싸워서 다치면 보험 적용되나요?\")\n",
    "    with gr.Row():\n",
    "        output = gr.Textbox(label=\"📄 AI 응답\", lines=10)\n",
    "    submit_btn = gr.Button(\"질문하기\")\n",
    "    submit_btn.click(fn=answer_question, inputs=query_input, outputs=output)\n",
    "\n",
    "# 5. 실행\n",
    "demo.launch(share=True)\n"
   ]
  }
 ],
 "metadata": {
  "kernelspec": {
   "display_name": "Python 3",
   "language": "python",
   "name": "python3"
  },
  "language_info": {
   "codemirror_mode": {
    "name": "ipython",
    "version": 3
   },
   "file_extension": ".py",
   "mimetype": "text/x-python",
   "name": "python",
   "nbconvert_exporter": "python",
   "pygments_lexer": "ipython3",
   "version": "3.11.9"
  }
 },
 "nbformat": 4,
 "nbformat_minor": 5
}
