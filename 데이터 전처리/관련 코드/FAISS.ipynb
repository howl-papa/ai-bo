{
 "cells": [
  {
   "cell_type": "code",
   "execution_count": 5,
   "id": "eefa72ab",
   "metadata": {},
   "outputs": [],
   "source": [
    "import pandas as pd\n",
    "import faiss\n",
    "\n",
    "df = pd.read_csv(r\"C:\\Users\\USER\\Desktop\\MS_2nd_project\\embedded_chunks.csv\", encoding=\"utf-8-sig\")\n",
    "embeddings = df[\"embedding\"].apply(eval).tolist()  # 문자열 리스트 → 실제 리스트로 변환\n"
   ]
  },
  {
   "cell_type": "code",
   "execution_count": 7,
   "id": "2b98e0a7",
   "metadata": {},
   "outputs": [],
   "source": [
    "import numpy as np\n",
    "import faiss\n",
    "\n",
    "embedding_dim = len(embeddings[0])  # 예: 1536\n",
    "index = faiss.IndexFlatL2(embedding_dim)  # L2 거리 기반 인덱스\n",
    "\n",
    "index.add(np.array(embeddings).astype(\"float32\"))  # 벡터 추가"
   ]
  },
  {
   "cell_type": "code",
   "execution_count": 8,
   "id": "b4457a37",
   "metadata": {},
   "outputs": [],
   "source": [
    "df[[\"chunk\"]].to_csv(\"faiss_metadata.csv\", index=False, encoding=\"utf-8-sig\")\n",
    "faiss.write_index(index, \"faiss_index.idx\")  # 벡터 인덱스 저장\n"
   ]
  },
  {
   "cell_type": "code",
   "execution_count": null,
   "id": "b1dde465",
   "metadata": {},
   "outputs": [],
   "source": []
  },
  {
   "cell_type": "code",
   "execution_count": null,
   "id": "f5e4b6b9",
   "metadata": {},
   "outputs": [],
   "source": []
  }
 ],
 "metadata": {
  "kernelspec": {
   "display_name": "Python 3",
   "language": "python",
   "name": "python3"
  },
  "language_info": {
   "codemirror_mode": {
    "name": "ipython",
    "version": 3
   },
   "file_extension": ".py",
   "mimetype": "text/x-python",
   "name": "python",
   "nbconvert_exporter": "python",
   "pygments_lexer": "ipython3",
   "version": "3.11.9"
  }
 },
 "nbformat": 4,
 "nbformat_minor": 5
}
