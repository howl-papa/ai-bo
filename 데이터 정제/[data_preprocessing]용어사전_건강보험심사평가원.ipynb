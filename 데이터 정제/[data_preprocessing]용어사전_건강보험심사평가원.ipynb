{
 "cells": [
  {
   "cell_type": "code",
   "execution_count": null,
   "id": "9d41dbad",
   "metadata": {},
   "outputs": [],
   "source": [
    "CSV파일 Json형식으로 변환"
   ]
  },
  {
   "cell_type": "code",
   "execution_count": null,
   "id": "bf4750b9",
   "metadata": {},
   "outputs": [],
   "source": [
    "import pandas as pd\n",
    "\n",
    "# Read the CSV file\n",
    "df = pd.read_csv('건강보험심사평가원_건강보험 용어사전_20240417.csv')\n",
    "\n",
    "# Convert to JSON and save\n",
    "df.to_json('health_insurance_glossary.json', orient='records', force_ascii=False, indent=4)"
   ]
  },
  {
   "cell_type": "markdown",
   "id": "f5a1019b",
   "metadata": {},
   "source": [
    "{\n",
    "        \"일련번호\":1,\n",
    "        \"단어명\":\"요양급여(보험급여)\",\n",
    "        \"설명세부내용\":\"건강보험에 포함된 행위, 약제, 치료재료 등을 말함\",\n",
    "        \"쉬운용어단어명\":null\n",
    "    }"
   ]
  },
  {
   "cell_type": "markdown",
   "id": "d8a9f421",
   "metadata": {},
   "source": [
    "'단어명'과 '설명세부내용'을 제외한 모든 데이터를 삭제"
   ]
  },
  {
   "cell_type": "code",
   "execution_count": null,
   "id": "412edab9",
   "metadata": {},
   "outputs": [],
   "source": [
    "import json\n",
    "\n",
    "# Read the JSON file\n",
    "with open('health_insurance_glossary.json', 'r', encoding='utf-8') as f:\n",
    "    data = json.load(f)\n",
    "\n",
    "# Filter the data to keep only \"단어명\" and \"설명세부내용\"\n",
    "filtered_data = []\n",
    "for item in data:\n",
    "    filtered_item = {\n",
    "        \"단어명\": item.get(\"단어명\"),\n",
    "        \"설명세부내용\": item.get(\"설명세부내용\")\n",
    "    }\n",
    "    filtered_data.append(filtered_item)\n",
    "\n",
    "# Save the filtered data to a new JSON file\n",
    "with open('health_insurance_glossary_filtered.json', 'w', encoding='utf-8') as f:\n",
    "    json.dump(filtered_data, f, ensure_ascii=False, indent=4)"
   ]
  },
  {
   "cell_type": "markdown",
   "id": "3c1590cf",
   "metadata": {},
   "source": [
    "우선적으로 5개의 항목에 대해서만 '쉬운 용어 해설'을 추가"
   ]
  },
  {
   "cell_type": "code",
   "execution_count": null,
   "id": "d8547c66",
   "metadata": {},
   "outputs": [],
   "source": [
    "import json\n",
    "\n",
    "# Load the filtered JSON data\n",
    "with open('health_insurance_glossary_filtered.json', 'r', encoding='utf-8') as f:\n",
    "    data = json.load(f)\n",
    "\n",
    "# Simplified explanations for the first 5 terms\n",
    "simplified_explanations = [\n",
    "    \"건강보험 적용을 받아 병원, 의원에서 진료, 검사, 약 처방 등을 받는 것.\",\n",
    "    \"내가 병원에 낸 비급여 진료비가 제대로 계산되었는지 건강보험심사평가원에 확인을 요청하는 제도.\",\n",
    "    \"갑작스러운 질병이나 사고로 의료비를 내기 어려운 사람에게 나라에서 의료비를 지원해주는 돈.\",\n",
    "    \"긴급의료지원비를 받은 사람이 자신이 낸 비급여 진료비가 맞게 책정되었는지 확인을 요청하는 제도.\",\n",
    "    \"억울한 일을 당했을 때 법이나 제도를 통해 바로잡을 수 있는 절차.\"\n",
    "]\n",
    "\n",
    "# Add the new field to the first 5 items\n",
    "for i in range(5):\n",
    "    if i < len(data):\n",
    "        data[i]['쉬운 용어 해설'] = simplified_explanations[i]\n",
    "\n",
    "# Save the updated data to a new JSON file\n",
    "with open('health_insurance_glossary_updated.json', 'w', encoding='utf-8') as f:\n",
    "    json.dump(data, f, ensure_ascii=False, indent=4)"
   ]
  }
 ],
 "metadata": {
  "language_info": {
   "name": "python"
  }
 },
 "nbformat": 4,
 "nbformat_minor": 5
}
