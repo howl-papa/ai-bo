{
 "cells": [
  {
   "cell_type": "code",
   "execution_count": null,
   "id": "9d41dbad",
   "metadata": {},
   "outputs": [],
   "source": [
    "CSV파일 Json형식으로 변환"
   ]
  },
  {
   "cell_type": "code",
   "execution_count": null,
   "id": "bf4750b9",
   "metadata": {},
   "outputs": [],
   "source": [
    "import pandas as pd\n",
    "\n",
    "# Read the uploaded CSV file\n",
    "df = pd.read_csv('국민건강보험공단_인터넷건강보험용어사전_20240611.csv')\n",
    "\n",
    "# Convert the DataFrame to a JSON file\n",
    "df.to_json('internet_health_insurance_glossary.json', orient='records', force_ascii=False, indent=4)"
   ]
  },
  {
   "cell_type": "markdown",
   "id": "a23cf824",
   "metadata": {},
   "source": [
    "{\n",
    "        \"번호\":1,\n",
    "        \"용어\":\"고지제도\",\n",
    "        \"용어 설명\":\"告知制度 공단이 처분을 할 때에는 처분의 상대방에게 이의신청을 청구할 수 있는 지 여부, 이의신청의 절차와 방법, 이의신청 제기 기간 등 이의신청 제기에 필요한 사항을 미리 알려주도록 공단에 고지의무를 부과하는 제도를 말함\",\n",
    "        \"담당부서\":\"법무지원실\",\n",
    "        \"등록일자\":\"2018-06-27\"\n",
    "    }"
   ]
  },
  {
   "cell_type": "markdown",
   "id": "d8a9f421",
   "metadata": {},
   "source": [
    "'단어명'과 '설명세부내용'을 제외한 모든 데이터를 삭제"
   ]
  },
  {
   "cell_type": "code",
   "execution_count": null,
   "id": "412edab9",
   "metadata": {},
   "outputs": [],
   "source": [
    "import json\n",
    "\n",
    "# Read the JSON file created in the previous step\n",
    "with open('internet_health_insurance_glossary.json', 'r', encoding='utf-8') as f:\n",
    "    data = json.load(f)\n",
    "\n",
    "# Filter the data to keep only '용어' and '용어 설명'\n",
    "filtered_data = []\n",
    "for item in data:\n",
    "    filtered_item = {\n",
    "        \"용어\": item.get(\"용어\"),\n",
    "        \"용어 설명\": item.get(\"용어 설명\")\n",
    "    }\n",
    "    filtered_data.append(filtered_item)\n",
    "\n",
    "# Save the filtered data to a new JSON file\n",
    "with open('internet_health_insurance_glossary_filtered.json', 'w', encoding='utf-8') as f:\n",
    "    json.dump(filtered_data, f, ensure_ascii=False, indent=4)"
   ]
  },
  {
   "cell_type": "markdown",
   "id": "3c1590cf",
   "metadata": {},
   "source": [
    "우선적으로 5개의 항목에 대해서만 '쉬운 용어 해설'을 추가"
   ]
  },
  {
   "cell_type": "code",
   "execution_count": null,
   "id": "d8547c66",
   "metadata": {},
   "outputs": [],
   "source": [
    "import json\n",
    "\n",
    "# Load the filtered JSON data\n",
    "with open('internet_health_insurance_glossary_filtered.json', 'r', encoding='utf-8') as f:\n",
    "    data = json.load(f)\n",
    "\n",
    "# Let's find the 5th term from the data\n",
    "fifth_term = None\n",
    "if len(data) >= 5:\n",
    "    fifth_term_item = data[4]\n",
    "    fifth_term = fifth_term_item.get(\"용어\")\n",
    "\n",
    "# Simplified explanations based on search results and context\n",
    "# I will create explanations for the first 5 terms as requested.\n",
    "simplified_explanations = [\n",
    "    \"행정기관이 어떤 처분을 할 때, 그 내용을 당사자에게 미리 알려주는 제도입니다. 이의신청 방법이나 기간 등도 함께 알려줍니다.\",\n",
    "    \"공무원과 사립학교 교직원을 줄여서 부르는 말입니다.\",\n",
    "    \"잘못해서 더 많이 내거나, 이중으로 낸 보험료를 돌려받는 돈입니다.\",\n",
    "    \"공무원이 업무 중에 다치거나 병에 걸렸을 때 치료를 위해 지급되는 비용입니다.\",\n",
    "    \"국민건강보험공단을 줄여서 부르는 말입니다.\" # Assuming the 5th term is '공단'\n",
    "]\n",
    "\n",
    "# Create a new list for the updated data\n",
    "updated_data = []\n",
    "\n",
    "# Add the new field to the first 5 items\n",
    "for i, item in enumerate(data):\n",
    "    new_item = item.copy()\n",
    "    if i < 5:\n",
    "        # Check if the term matches what we assumed for the 5th entry\n",
    "        if i == 4 and fifth_term != \"공단\":\n",
    "             # If the 5th term is not \"공단\", we'll just use a generic simplified explanation from the original description\n",
    "             original_explanation = new_item.get(\"용어 설명\", \"\")\n",
    "             # Simple rule: take the first part of the explanation\n",
    "             simplified_explanation_for_5th = original_explanation.split('.')[0]\n",
    "             new_item['쉬운 용어 해설'] = simplified_explanation_for_5th\n",
    "        else:\n",
    "             new_item['쉬운 용어 해설'] = simplified_explanations[i]\n",
    "    updated_data.append(new_item)\n",
    "\n",
    "\n",
    "# Save the updated data to a new JSON file\n",
    "with open('internet_health_insurance_glossary_updated.json', 'w', encoding='utf-8') as f:\n",
    "    json.dump(updated_data, f, ensure_ascii=False, indent=4)"
   ]
  }
 ],
 "metadata": {
  "kernelspec": {
   "display_name": "Python 3",
   "language": "python",
   "name": "python3"
  },
  "language_info": {
   "name": "python",
   "version": "3.11.9"
  }
 },
 "nbformat": 4,
 "nbformat_minor": 5
}
