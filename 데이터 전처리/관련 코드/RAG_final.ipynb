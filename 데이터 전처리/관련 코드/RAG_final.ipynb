{
 "cells": [
  {
   "cell_type": "code",
   "execution_count": 1,
   "id": "4914a8f8",
   "metadata": {},
   "outputs": [
    {
     "name": "stdout",
     "output_type": "stream",
     "text": [
      "질문: 열이 나서 병원에 입원했는데, 보험금 청구가 가능한가요?\n",
      "🔹 GPT 응답:\n",
      " 각 문서의 조항에 따라 보험금 청구 가능 여부를 확인하기 위해 입원 정의 및 보장 조건을 살펴보겠습니다.\n",
      "\n",
      "1. **제3조 (입원의 정의와 장소):**\n",
      "   - '입원'은 의료법 제3조에서 규정한 국내 병원, 의원, 또는 국외 법에서 정한 의료기관에 입실하여 의사의 관리 하에 전념하여 치료하는 것입니다.\n",
      "   - 질병에서 회복을 위해 자택 등에서의 치료가 어려워 병원 등에 입실 필요한 경우를 의미합니다.\n",
      "\n",
      "2. **병원 실제 입원 조건들:**\n",
      "   - 입원실에 머무른 시간이 6시간 이상일 경우, 입원으로 간주할 수 있습니다.\n",
      "\n",
      "3. **간병인 사용 관련 조항:**\n",
      "   - 상해로 입원하는 경우에만 간병인 사용에 대한 보장이 적용되며 요양병원 및 의원에서의 입원은 제외됩니다(상해입원간병인사용급여금).\n",
      "\n",
      "결론적으로, 귀하가 열이 나서 입원한 경우 보험금 청구 가능 여부는 다음과 같습니다:\n",
      "- 단순히 '열이 났다'는 이유만으로는 상세한 진단 결과나 추가적인 의료상황이 명시되어 있지 않기 때문에, 해당 조건이 '질병에서 회복을 위해 병원 치료가 필요한 상태'에 부합하는지가 관건입니다.\n",
      "- 입원으로 인정받기 위해서는 최소한 6시간 이상 병원에 머무는 것이 요구됩니다.\n",
      "- 이 문서에서는 \"간병인 사용 급여\"는 상해로 인한 경우에만 적용되므로, 귀하의 경우 (질병 관련)는 해당 사항이 적용되지 않습니다.\n",
      "\n",
      "이러한 조건들을 충족한다면, 보험금 청구가 가능할 수 있습니다. 보험 약관에 따른 정확한 조건 충족 여부를 최종 판단하기 위해, 의료 기록과 함께 보험 회사에 문의하시기를 추천드립니다.\n"
     ]
    }
   ],
   "source": [
    "import faiss\n",
    "import pandas as pd\n",
    "import numpy as np\n",
    "from openai import AzureOpenAI\n",
    "\n",
    "client = AzureOpenAI(\n",
    "    api_key=\"YOUR_AZURE_OPENAI_KEY\",\n",
    "    api_version=\"2024-05-01-preview\",\n",
    "    azure_endpoint=\"https://team05-openai.openai.azure.com\"\n",
    ")\n",
    "\n",
    "# 1. 메타데이터 & FAISS 인덱스 로드\n",
    "df_meta = pd.read_csv(\"FAISS/faiss_metadata.csv\", encoding=\"utf-8-sig\")\n",
    "index = faiss.read_index(\"FAISS/faiss_index.idx\")\n",
    "\n",
    "# 2. 사용자 질문 → 임베딩\n",
    "query = \"열이 나서 병원에 입원했는데, 보험금 청구가 가능한가요?\"\n",
    "resp = client.embeddings.create(\n",
    "    input=[query],\n",
    "    model=\"text-embedding-3-large\"\n",
    ")\n",
    "query_vec = np.array(resp.data[0].embedding, dtype='float32').reshape(1, -1)\n",
    "\n",
    "# 3. 유사 조항 top-3 검색\n",
    "D, I = index.search(query_vec, k=3) \n",
    "\n",
    "# 4. 유사 조항 출력\n",
    "context = \"\\n\\n\".join(df_meta.loc[i, \"chunk\"] for i in I[0])\n",
    "\n",
    "# 5. GPT 응답 생성\n",
    "completion = client.chat.completions.create(\n",
    "    model=\"gpt-4\",\n",
    "    messages=[\n",
    "        {\"role\": \"system\", \"content\": \"당신은 보험 약관 해석 전문 AI 챗봇입니다. 다음 문서 조항을 기반으로 질문에 답하고, 보기 쉽게 불렛 포인트로 조항을 보여줘. 친절한 상담사처럼 설명해주고 전문용어를 쉽게 풀어줘. 파일에 없는 내용은 답변하지 마세요.\"},\n",
    "        {\"role\": \"user\", \"content\": f\"문서:\\n{context}\\n\\n질문: {query}\"}\n",
    "    ]\n",
    ")\n",
    "\n",
    "print(\"질문:\", query)\n",
    "print(\"🔹 GPT 응답:\\n\", completion.choices[0].message.content)\n"
   ]
  }
 ],
 "metadata": {
  "kernelspec": {
   "display_name": "Python 3",
   "language": "python",
   "name": "python3"
  },
  "language_info": {
   "codemirror_mode": {
    "name": "ipython",
    "version": 3
   },
   "file_extension": ".py",
   "mimetype": "text/x-python",
   "name": "python",
   "nbconvert_exporter": "python",
   "pygments_lexer": "ipython3",
   "version": "3.11.9"
  }
 },
 "nbformat": 4,
 "nbformat_minor": 5
}
